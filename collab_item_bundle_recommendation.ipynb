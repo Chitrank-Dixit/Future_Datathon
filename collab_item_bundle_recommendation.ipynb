{
 "cells": [
  {
   "cell_type": "markdown",
   "metadata": {},
   "source": [
    "### Introduction\n",
    "\n",
    "Here we are going to build a collaborative filtering recommendation engine which relies on past purchases of a customer. In simple words, we make recommendations based on, what all products have been most commonly brought along with the product purchased by the customer. \n",
    "\n",
    "It's not the most powerful approach, but should give you a quick lead on solving this problem.\n"
   ]
  },
  {
   "cell_type": "code",
   "execution_count": 1,
   "metadata": {
    "collapsed": false
   },
   "outputs": [],
   "source": [
    "## load libraries\n",
    "import pandas as pd\n",
    "import numpy as np\n",
    "from sklearn.preprocessing import LabelEncoder\n",
    "import scipy.sparse as sps\n",
    "import warnings\n",
    "warnings.filterwarnings('ignore')\n",
    "from tqdm import tqdm"
   ]
  },
  {
   "cell_type": "code",
   "execution_count": 2,
   "metadata": {
    "collapsed": false
   },
   "outputs": [],
   "source": [
    "# load product and sample file\n",
    "products = pd.read_csv('products.csv')"
   ]
  },
  {
   "cell_type": "code",
   "execution_count": 238,
   "metadata": {
    "collapsed": true
   },
   "outputs": [],
   "source": [
    "sample = pd.read_csv('sampleSubmission.csv')"
   ]
  },
  {
   "cell_type": "code",
   "execution_count": 239,
   "metadata": {
    "collapsed": false
   },
   "outputs": [
    {
     "data": {
      "text/html": [
       "<div>\n",
       "<table border=\"1\" class=\"dataframe\">\n",
       "  <thead>\n",
       "    <tr style=\"text-align: right;\">\n",
       "      <th></th>\n",
       "      <th>customerID</th>\n",
       "      <th>products</th>\n",
       "    </tr>\n",
       "  </thead>\n",
       "  <tbody>\n",
       "    <tr>\n",
       "      <th>0</th>\n",
       "      <td>BBID_204221</td>\n",
       "      <td>300663432,1000099534,1000475598,None,None,None...</td>\n",
       "    </tr>\n",
       "    <tr>\n",
       "      <th>1</th>\n",
       "      <td>BBID_204254</td>\n",
       "      <td>300663432,1000099534,1000475598,None,None,None...</td>\n",
       "    </tr>\n",
       "    <tr>\n",
       "      <th>2</th>\n",
       "      <td>BBID_204830</td>\n",
       "      <td>300663432,1000099534,1000475598,None,None,None...</td>\n",
       "    </tr>\n",
       "    <tr>\n",
       "      <th>3</th>\n",
       "      <td>BBID_204880</td>\n",
       "      <td>300663432,1000099534,1000475598,None,None,None...</td>\n",
       "    </tr>\n",
       "    <tr>\n",
       "      <th>4</th>\n",
       "      <td>BBID_204910</td>\n",
       "      <td>300663432,1000099534,1000475598,None,None,None...</td>\n",
       "    </tr>\n",
       "  </tbody>\n",
       "</table>\n",
       "</div>"
      ],
      "text/plain": [
       "    customerID                                           products\n",
       "0  BBID_204221  300663432,1000099534,1000475598,None,None,None...\n",
       "1  BBID_204254  300663432,1000099534,1000475598,None,None,None...\n",
       "2  BBID_204830  300663432,1000099534,1000475598,None,None,None...\n",
       "3  BBID_204880  300663432,1000099534,1000475598,None,None,None...\n",
       "4  BBID_204910  300663432,1000099534,1000475598,None,None,None..."
      ]
     },
     "execution_count": 239,
     "metadata": {},
     "output_type": "execute_result"
    }
   ],
   "source": [
    "sample.head()"
   ]
  },
  {
   "cell_type": "code",
   "execution_count": 237,
   "metadata": {
    "collapsed": false
   },
   "outputs": [
    {
     "data": {
      "text/plain": [
       "False"
      ]
     },
     "execution_count": 237,
     "metadata": {},
     "output_type": "execute_result"
    }
   ],
   "source": [
    "'BBID_20410043' in sample['customerID']"
   ]
  },
  {
   "cell_type": "code",
   "execution_count": 3,
   "metadata": {
    "collapsed": false
   },
   "outputs": [
    {
     "data": {
      "text/plain": [
       "165055"
      ]
     },
     "execution_count": 3,
     "metadata": {},
     "output_type": "execute_result"
    }
   ],
   "source": [
    "## number of unique customers\n",
    "products['customerID'].nunique()"
   ]
  },
  {
   "cell_type": "markdown",
   "metadata": {},
   "source": [
    "### To avoid memory error, lets build first model using June 2016 onwards data"
   ]
  },
  {
   "cell_type": "code",
   "execution_count": 4,
   "metadata": {
    "collapsed": true
   },
   "outputs": [],
   "source": [
    "products['transactionDate'] = pd.to_datetime(products['transactionDate'])\n",
    "mask = (products['transactionDate'] >= '2016-12-01')\n",
    "products = products.loc[mask]"
   ]
  },
  {
   "cell_type": "code",
   "execution_count": 62,
   "metadata": {
    "collapsed": false
   },
   "outputs": [],
   "source": [
    "products.sort_values('transactionDate',inplace=True)\n",
    "products = products.reset_index(drop=True)"
   ]
  },
  {
   "cell_type": "code",
   "execution_count": 66,
   "metadata": {
    "collapsed": false
   },
   "outputs": [],
   "source": [
    "## take only those customers which are in sample submission file\n",
    "products_2 = products[products['customerID'].isin(sample['customerID'])]\n",
    "\n",
    "## remove missing values # 4\n",
    "products_2 = products_2[~pd.isnull(products_2['product_code'])]\n",
    "\n",
    "## convert type of product code\n",
    "products_2['product_code'] = products_2['product_code'].astype(np.int64)"
   ]
  },
  {
   "cell_type": "code",
   "execution_count": 68,
   "metadata": {
    "collapsed": false
   },
   "outputs": [],
   "source": [
    "products_2 = products_2.loc[:,['customerID','product_code']]\n",
    "products_2 = products_2.reset_index(drop=True)"
   ]
  },
  {
   "cell_type": "code",
   "execution_count": 69,
   "metadata": {
    "collapsed": false
   },
   "outputs": [],
   "source": [
    "## these customers are not in train, so we'll predict None for them at last\n",
    "misfit_customers = list(set(sample['customerID']) - set(products_2['customerID']))"
   ]
  },
  {
   "cell_type": "markdown",
   "metadata": {},
   "source": [
    "### user X product matrix"
   ]
  },
  {
   "cell_type": "code",
   "execution_count": 70,
   "metadata": {
    "collapsed": true
   },
   "outputs": [],
   "source": [
    "## create product list by customers\n",
    "products_2 = products_2.groupby('customerID')['product_code'].apply(lambda x: x.tolist()).reset_index()"
   ]
  },
  {
   "cell_type": "code",
   "execution_count": 71,
   "metadata": {
    "collapsed": false
   },
   "outputs": [],
   "source": [
    "## remove duplicate products\n",
    "products_2['product_code'] = products_2['product_code'].map(lambda x: list(set(x)))"
   ]
  },
  {
   "cell_type": "code",
   "execution_count": 77,
   "metadata": {
    "collapsed": true
   },
   "outputs": [],
   "source": [
    "## fix product max len to 20 (we'll pick the last 20 i.e most recent ones)\n",
    "products_2['product_code'] = products_2['product_code'].map(lambda x: x[-20:])"
   ]
  },
  {
   "cell_type": "code",
   "execution_count": 150,
   "metadata": {
    "collapsed": false
   },
   "outputs": [],
   "source": [
    "### create a list of customers & products\n",
    "\n",
    "customerIDs = []\n",
    "product_codes = []\n",
    "\n",
    "for index, row in products_2.iterrows():\n",
    "    #if index % 10 == 0:\n",
    "    #    print (index)\n",
    "    ls_len = len(row['product_code'])\n",
    "    customerIDs.extend(np.repeat(row['customerID'], ls_len))\n",
    "    product_codes.extend(row['product_code'])"
   ]
  },
  {
   "cell_type": "code",
   "execution_count": 151,
   "metadata": {
    "collapsed": true
   },
   "outputs": [],
   "source": [
    "## encode values \n",
    "\n",
    "from sklearn.preprocessing import LabelEncoder\n",
    "\n",
    "lbl = LabelEncoder() ## for customers\n",
    "customerIDs = lbl.fit_transform(customerIDs)\n",
    " \n",
    "lbl2 = LabelEncoder() ## for products\n",
    "product_codes = lbl2.fit_transform(product_codes)\n"
   ]
  },
  {
   "cell_type": "code",
   "execution_count": 95,
   "metadata": {
    "collapsed": true
   },
   "outputs": [],
   "source": [
    "n_unique_users = len(set(customerIDs))\n",
    "n_unique_products = len(set(product_codes))\n",
    "\n",
    "row = customerIDs\n",
    "col = product_codes\n",
    "\n",
    "vals = np.repeat(1, len(row))\n",
    "\n",
    "## this matrix has information about a user bought which all products.\n",
    "user_product_matrix = sps.csr_matrix((vals, (row, col)), shape=(n_unique_users, n_unique_products))\n",
    "\n",
    "## this matrix has information a product got bought along with which other products, and how many times\n",
    "product_cooccurence_matrix = (user_product_matrix.T * user_product_matrix)\n",
    "\n",
    "## set diagonal equals to zero since we are not interested in knowing the count of a product with itself\n",
    "product_cooccurence_matrix.setdiag(np.repeat(0, product_cooccurence_matrix.shape[0]))"
   ]
  },
  {
   "cell_type": "code",
   "execution_count": 98,
   "metadata": {
    "collapsed": true
   },
   "outputs": [],
   "source": [
    "## create a data frame of encoded values\n",
    "product_summary = pd.DataFrame({'customerID':customerIDs, 'product_code':product_codes})\n",
    "product_summary = product_summary.groupby('customerID')['product_code'].agg(lambda x:x.tolist()).reset_index().rename(columns = {0:'product_collection'})"
   ]
  },
  {
   "cell_type": "code",
   "execution_count": 99,
   "metadata": {
    "collapsed": true
   },
   "outputs": [],
   "source": [
    "## how many recommendation to make\n",
    "def take_top_(x):\n",
    "    if x >= 20:\n",
    "        return 1\n",
    "    else:\n",
    "        if x < 20:\n",
    "            return int(np.round(20/x))\n",
    "        \n",
    "## get count of products per customer\n",
    "product_summary['len_collection'] = product_summary['product_collection'].map(len)\n",
    "\n",
    "## if a customer has 20 products in the list, we'll take 1 top most product per each product\n",
    "product_summary['take_top'] = product_summary['len_collection'].map(lambda x: take_top_(x))"
   ]
  },
  {
   "cell_type": "code",
   "execution_count": 101,
   "metadata": {
    "collapsed": true
   },
   "outputs": [],
   "source": [
    "## recommendation function\n",
    "def recommend_affinity(user):\n",
    "    \n",
    "    products_ = product_summary[product_summary['customerID'] == user]['product_collection'].iloc[0] # returns list\n",
    "    take_top_ = product_summary[product_summary['customerID'] == user]['take_top'].iloc[0]\n",
    "    \n",
    "    recs = []\n",
    "    \n",
    "    if take_top_ == 0:\n",
    "        return recs\n",
    "    \n",
    "    ## here we get the list of products which were bought the maximum number of times along with a particular productr\n",
    "    for tt in products_:\n",
    "        s = np.squeeze(np.asarray(product_cooccurence_matrix[tt].todense())) ## list of products bought with counts` with that product\n",
    "        ll = s.argsort()[-int(take_top_):][::-1]\n",
    "        recs.append(list(ll))\n",
    "\n",
    "    recs = list(np.vstack(recs).flatten('F'))\n",
    " \n",
    "    if not recs:\n",
    "        return recs\n",
    "    \n",
    "    return recs"
   ]
  },
  {
   "cell_type": "code",
   "execution_count": 102,
   "metadata": {
    "collapsed": true
   },
   "outputs": [],
   "source": [
    "## recommendation for customers\n",
    "unique_customers = []\n",
    "\n",
    "for i in sample['customerID']:\n",
    "    if i not in misfit_customers:\n",
    "        unique_customers.append(i)\n",
    "\n",
    "unique_customers = lbl.fit_transform(unique_customers)"
   ]
  },
  {
   "cell_type": "code",
   "execution_count": 105,
   "metadata": {
    "collapsed": false
   },
   "outputs": [
    {
     "name": "stderr",
     "output_type": "stream",
     "text": [
      "100%|██████████| 25754/25754 [2:58:21<00:00,  2.43it/s]  \n"
     ]
    }
   ],
   "source": [
    "from collections import defaultdict\n",
    "out_dict = defaultdict(list)\n",
    "\n",
    "nulls = []\n",
    "\n",
    "for user in tqdm(unique_customers): #[:50]): ## i took first 50 customers. \n",
    "    rec = recommend_affinity(user)\n",
    "    if not rec:\n",
    "        nulls.append(user)\n",
    "    out_dict[user] = rec\n",
    "#     if i% 10 == 0:\n",
    "#         print(i)"
   ]
  },
  {
   "cell_type": "code",
   "execution_count": 262,
   "metadata": {
    "collapsed": false
   },
   "outputs": [],
   "source": [
    "## get unique items per customer\n",
    "from collections import defaultdict\n",
    "\n",
    "out_dict_2 = defaultdict(list)\n",
    "\n",
    "for k,v in out_dict.items():\n",
    "    out_dict_2[k] = list(set(v))"
   ]
  },
  {
   "cell_type": "code",
   "execution_count": null,
   "metadata": {
    "collapsed": true
   },
   "outputs": [],
   "source": [
    "## convert key values to inverse customer codes\n",
    "\n",
    "customer_codes = list(lbl.inverse_transform(customerIDs))\n",
    "customer_maps = dict(zip(list(customerIDs), list(customer_codes)))"
   ]
  },
  {
   "cell_type": "code",
   "execution_count": 267,
   "metadata": {
    "collapsed": true
   },
   "outputs": [],
   "source": [
    "out_dict_3 = defaultdict(list)\n",
    "\n",
    "for k,v in out_dict_2.items():\n",
    "    out_dict_3[customer_maps[k]] = out_dict_2[k]"
   ]
  },
  {
   "cell_type": "code",
   "execution_count": 119,
   "metadata": {
    "collapsed": true
   },
   "outputs": [],
   "source": [
    "mis_dict = defaultdict(list)\n",
    "\n",
    "for i in misfit_customers:\n",
    "    mis_dict[i] = list(np.repeat('None', 20))"
   ]
  },
  {
   "cell_type": "code",
   "execution_count": 269,
   "metadata": {
    "collapsed": true
   },
   "outputs": [],
   "source": [
    "out_dict_3.update(mis_dict)"
   ]
  },
  {
   "cell_type": "code",
   "execution_count": 270,
   "metadata": {
    "collapsed": false
   },
   "outputs": [],
   "source": [
    "submission = pd.DataFrame(list(out_dict_3.items()), columns=['customerID','products'])"
   ]
  },
  {
   "cell_type": "code",
   "execution_count": 271,
   "metadata": {
    "collapsed": false
   },
   "outputs": [
    {
     "data": {
      "text/html": [
       "<div>\n",
       "<table border=\"1\" class=\"dataframe\">\n",
       "  <thead>\n",
       "    <tr style=\"text-align: right;\">\n",
       "      <th></th>\n",
       "      <th>customerID</th>\n",
       "      <th>products</th>\n",
       "    </tr>\n",
       "  </thead>\n",
       "  <tbody>\n",
       "    <tr>\n",
       "      <th>0</th>\n",
       "      <td>BBID_20470586</td>\n",
       "      <td>[5816, 6081, 2120, 2638, 5815]</td>\n",
       "    </tr>\n",
       "    <tr>\n",
       "      <th>1</th>\n",
       "      <td>BBID_204106703</td>\n",
       "      <td>[6081, 2424, 357, 8453, 599, 486, 15159, 5816,...</td>\n",
       "    </tr>\n",
       "    <tr>\n",
       "      <th>2</th>\n",
       "      <td>BBID_211448942</td>\n",
       "      <td>[2177, 6081, 14286, 3182, 14897, 2708, 5815, 5...</td>\n",
       "    </tr>\n",
       "    <tr>\n",
       "      <th>3</th>\n",
       "      <td>BBID_211458127</td>\n",
       "      <td>[6081, 2403, 6916, 2406, 4778, 5815, 5816]</td>\n",
       "    </tr>\n",
       "    <tr>\n",
       "      <th>4</th>\n",
       "      <td>BBID_2043518</td>\n",
       "      <td>[5816, 3554, 9746, 14494, 5815]</td>\n",
       "    </tr>\n",
       "  </tbody>\n",
       "</table>\n",
       "</div>"
      ],
      "text/plain": [
       "       customerID                                           products\n",
       "0   BBID_20470586                     [5816, 6081, 2120, 2638, 5815]\n",
       "1  BBID_204106703  [6081, 2424, 357, 8453, 599, 486, 15159, 5816,...\n",
       "2  BBID_211448942  [2177, 6081, 14286, 3182, 14897, 2708, 5815, 5...\n",
       "3  BBID_211458127         [6081, 2403, 6916, 2406, 4778, 5815, 5816]\n",
       "4    BBID_2043518                    [5816, 3554, 9746, 14494, 5815]"
      ]
     },
     "execution_count": 271,
     "metadata": {},
     "output_type": "execute_result"
    }
   ],
   "source": [
    "submission.head()"
   ]
  },
  {
   "cell_type": "code",
   "execution_count": 152,
   "metadata": {
    "collapsed": true
   },
   "outputs": [],
   "source": [
    "product_codes_inv = list(lbl2.inverse_transform(product_codes))\n",
    "product_maps = dict(zip(list(product_codes), list(product_codes_inv)))"
   ]
  },
  {
   "cell_type": "code",
   "execution_count": 273,
   "metadata": {
    "collapsed": false
   },
   "outputs": [],
   "source": [
    "submission['products'] = submission['products'].map(lambda x: [product_maps.get(s) for s in x])"
   ]
  },
  {
   "cell_type": "code",
   "execution_count": 275,
   "metadata": {
    "collapsed": false
   },
   "outputs": [],
   "source": [
    "for index, row in submission.iterrows():\n",
    "    max_len = 20\n",
    "    if len(row['products']) < max_len:\n",
    "        size = len(row['products'])\n",
    "        diff_ = max_len - size\n",
    "        a = row['products']\n",
    "        a.extend(np.repeat('None', diff_))\n",
    "        submission.loc[index, 'products'] = a\n",
    "    else:\n",
    "        submission.loc[index, 'products'] = row['products'][:20]"
   ]
  },
  {
   "cell_type": "code",
   "execution_count": 277,
   "metadata": {
    "collapsed": true
   },
   "outputs": [],
   "source": [
    "submission['products'] = submission['products'].map(lambda x: ','.join(str(e) for e in x))"
   ]
  },
  {
   "cell_type": "code",
   "execution_count": 278,
   "metadata": {
    "collapsed": false
   },
   "outputs": [
    {
     "data": {
      "text/html": [
       "<div>\n",
       "<table border=\"1\" class=\"dataframe\">\n",
       "  <thead>\n",
       "    <tr style=\"text-align: right;\">\n",
       "      <th></th>\n",
       "      <th>customerID</th>\n",
       "      <th>products</th>\n",
       "    </tr>\n",
       "  </thead>\n",
       "  <tbody>\n",
       "    <tr>\n",
       "      <th>0</th>\n",
       "      <td>BBID_20470586</td>\n",
       "      <td>300776411,300840018,108030315,108100193,300776...</td>\n",
       "    </tr>\n",
       "    <tr>\n",
       "      <th>1</th>\n",
       "      <td>BBID_204106703</td>\n",
       "      <td>300840018,108037568,108000730,1000059431,10800...</td>\n",
       "    </tr>\n",
       "    <tr>\n",
       "      <th>2</th>\n",
       "      <td>BBID_211448942</td>\n",
       "      <td>108032048,300840018,1000638372,300088564,10006...</td>\n",
       "    </tr>\n",
       "    <tr>\n",
       "      <th>3</th>\n",
       "      <td>BBID_211458127</td>\n",
       "      <td>300840018,108037495,301007972,108037499,300540...</td>\n",
       "    </tr>\n",
       "    <tr>\n",
       "      <th>4</th>\n",
       "      <td>BBID_2043518</td>\n",
       "      <td>300776411,300177372,1000158702,1000652760,3007...</td>\n",
       "    </tr>\n",
       "  </tbody>\n",
       "</table>\n",
       "</div>"
      ],
      "text/plain": [
       "       customerID                                           products\n",
       "0   BBID_20470586  300776411,300840018,108030315,108100193,300776...\n",
       "1  BBID_204106703  300840018,108037568,108000730,1000059431,10800...\n",
       "2  BBID_211448942  108032048,300840018,1000638372,300088564,10006...\n",
       "3  BBID_211458127  300840018,108037495,301007972,108037499,300540...\n",
       "4    BBID_2043518  300776411,300177372,1000158702,1000652760,3007..."
      ]
     },
     "execution_count": 278,
     "metadata": {},
     "output_type": "execute_result"
    }
   ],
   "source": [
    "submission.head()"
   ]
  },
  {
   "cell_type": "code",
   "execution_count": 280,
   "metadata": {
    "collapsed": false
   },
   "outputs": [],
   "source": [
    "submission.to_csv('sub_0001.csv', index=False)"
   ]
  },
  {
   "cell_type": "code",
   "execution_count": null,
   "metadata": {
    "collapsed": true
   },
   "outputs": [],
   "source": []
  }
 ],
 "metadata": {
  "kernelspec": {
   "display_name": "Python 3",
   "language": "python",
   "name": "python3"
  },
  "language_info": {
   "codemirror_mode": {
    "name": "ipython",
    "version": 3
   },
   "file_extension": ".py",
   "mimetype": "text/x-python",
   "name": "python",
   "nbconvert_exporter": "python",
   "pygments_lexer": "ipython3",
   "version": "3.5.2"
  }
 },
 "nbformat": 4,
 "nbformat_minor": 2
}
